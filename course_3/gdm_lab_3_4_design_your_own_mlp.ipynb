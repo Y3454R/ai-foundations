{
  "cells": [
    {
      "cell_type": "markdown",
      "metadata": {
        "id": "_DAsej7XSlYt"
      },
      "source": [
        "> <p><small><small>This Notebook is made available subject to the licence and terms set out in the <a href = \"http://www.github.com/google-deepmind/ai-foundations\">AI Research Foundations Github README file</a>."
      ]
    },
    {
      "cell_type": "markdown",
      "metadata": {
        "id": "3myzQnLMOJ91"
      },
      "source": [
        "<img src=\"https://storage.googleapis.com/dm-educational/assets/ai_foundations/GDM-Labs-banner-image-C3-white-bg.png\">"
      ]
    },
    {
      "cell_type": "markdown",
      "metadata": {
        "id": "zE0jaJsaICiX"
      },
      "source": [
        "# Lab: Design Your Own MLP\n",
        "\n",
        "<a href='https://colab.research.google.com/github/google-deepmind/ai-foundations/blob/master/course_3/gdm_lab_3_4_design_your_own_mlp.ipynb' target='_parent'><img src='https://colab.research.google.com/assets/colab-badge.svg' alt='Open In Colab'/></a>\n",
        "\n",
        "Implement your first neural network from scratch.\n",
        "\n",
        "20 minutes"
      ]
    },
    {
      "cell_type": "markdown",
      "metadata": {
        "id": "zSYq3aNrdpnC"
      },
      "source": [
        "## Overview\n",
        "\n",
        "In this lab, you will implement your first neural network from scratch using the deep learning package [Keras](https://keras.io/). You will work with the same toy dataset as in the previous lab. This dataset again contains 2-dimensional embeddings of prompts for which a model should predict one of the following three tokens:\n",
        "*   \"mat\"\n",
        "*   \"apple\"\n",
        "*   \"bank\"\n",
        "\n",
        "\n",
        "\n",
        "\n",
        "\n",
        "\n"
      ]
    },
    {
      "cell_type": "markdown",
      "metadata": {
        "id": "v4Qf3eGhfl4H"
      },
      "source": [
        "### What you will learn:\n",
        "\n",
        "By the end of this lab, you will:\n",
        "* Be able to implement neural networks in Keras.\n",
        "* Understand how to interpret loss curves for the training process."
      ]
    },
    {
      "cell_type": "markdown",
      "metadata": {
        "id": "qIhcVxx0foVo"
      },
      "source": [
        "### Tasks\n",
        "\n",
        "You will define a function that stacks together different operations as part of your neural network. You will then train this neural network on the dataset with three classes (\"mat\", \"apple\", \"bank\") and observe to what extent the model can learn good decision boundaries.\n",
        "\n",
        "**In this lab, you will**:\n",
        "* Implement a function that defines an MLP in Keras.\n",
        "* Train your MLP on the embeddings dataset.\n",
        "* Plot the training and test loss curve.\n",
        "* Visualize the decision boundary of your model.\n",
        "\n",
        "\n",
        "All of these steps are described in detail in the following sections."
      ]
    },
    {
      "cell_type": "markdown",
      "metadata": {
        "id": "NDWsJUGcf4Ru"
      },
      "source": [
        "## How to use Google Colaboratory (Colab)"
      ]
    },
    {
      "cell_type": "markdown",
      "metadata": {
        "id": "wlNG_jg-39Zj"
      },
      "source": [
        "Google Colaboratory (also known as Google Colab) is a platform that allows you to run Python code in your browser. The code is written in *cells* that are executed on a remote server.\n",
        "\n",
        "To run a cell, hover over a cell and click on the `run` button to its left. The run button is the circle with the triangle (▶). Alternatively, you can also click on a cell and use the keyboard combination Ctrl+Return (or ⌘+Return if you are using a Mac).\n",
        "\n",
        "To try this out, run the following cell. This should print today's day of the week below it."
      ]
    },
    {
      "cell_type": "code",
      "execution_count": null,
      "metadata": {
        "id": "UyTT6C0JhGBs"
      },
      "outputs": [],
      "source": [
        "from datetime import datetime\n",
        "\n",
        "print(f\"Today is {datetime.today():%A}.\")"
      ]
    },
    {
      "cell_type": "markdown",
      "metadata": {
        "id": "pbtgZxrpjm6j"
      },
      "source": [
        "Note that the order in which you run the cells matters. When you are working through a lab, make sure to always run all cells in order. Otherwise, the code might not work. If you take a break while working on a lab, Colab may disconnect you. In that case, you have to execute all cells again before continuing your work. To make this easier, you can select the cell you are currently working on and then choose __Runtime → Run before__  from the menu above (or use the keyboard combination Ctrl/⌘ + F8). This will re-execute all cells before the current one."
      ]
    },
    {
      "cell_type": "markdown",
      "metadata": {
        "id": "3-d1hd7Xndke"
      },
      "source": [
        "## Imports\n",
        "\n",
        "In this lab, you will primarily work with the `keras` package to define your neural network. This allows you to efficiently define complex neural networks by sticking together individual building blocks. You will also use functions from the custom `ai_foundations` package to generate the visualizations and provide helper functions for training your model. You will also use a function from the `sklearn` package to randomly split the dataset into a training and a test set.\n",
        "\n",
        "Run the following cell to import all required packages."
      ]
    },
    {
      "cell_type": "code",
      "execution_count": null,
      "metadata": {
        "id": "mcwdn9tlPkHF"
      },
      "outputs": [],
      "source": [
        "%%capture\n",
        "# Install the custom package for this course.\n",
        "!pip install \"git+https://github.com/google-deepmind/ai-foundations.git@main\"\n",
        "\n",
        "import os # For adjusting Keras settings.\n",
        "os.environ['KERAS_BACKEND'] = 'jax' # Set a parameter for Keras.\n",
        "\n",
        "# Packages used.\n",
        "import jax.numpy as jnp # For defining matrices.\n",
        "import keras # For defining your MLP.\n",
        "import pandas as pd # For loading the dataset.\n",
        "# For splitting data into train and test splits.\n",
        "from sklearn import model_selection\n",
        "\n",
        "from ai_foundations import machine_learning # For training your MLP.\n",
        "from ai_foundations import visualizations # For visualizing data and boundaries.\n",
        "from ai_foundations import training # For logging the loss during training.\n",
        "from ai_foundations.feedback import course_3 # For providing feedback."
      ]
    },
    {
      "cell_type": "markdown",
      "metadata": {
        "id": "jPtMv4AvfBpD"
      },
      "source": [
        "# Generating the data\n",
        "\n",
        "To get started, run the following cell to load up the embeddings and labels.\n",
        "\n",
        "Note that this cell contains a line that automatically splits the data into training and testing sets:\n",
        "\n",
        "```python\n",
        "X_train, X_test, y_train, y_test = model_selection.train_test_split(\n",
        "    X, y, test_size=0.2, random_state=42\n",
        ")\n",
        "```\n",
        "\n",
        "This function takes the original embeddings (the matrix `X`) and the labels (the vector `y`) and randomly splits the dataset such that 80% of the examples are in the training set and 20% are in the test set. You can then use this test set to make sure that the model properly generalizes, rather than overfitting to noise in the training data."
      ]
    },
    {
      "cell_type": "code",
      "execution_count": null,
      "metadata": {
        "id": "fhXjPpNZF0BM"
      },
      "outputs": [],
      "source": [
        "# Load data using pandas.\n",
        "df = pd.read_csv(\"https://storage.googleapis.com/dm-educational/assets/ai_foundations/mat-apple-bank-dataset.csv\")\n",
        "\n",
        "# Extract embeddings (Embedding_dim_1, Embedding_dim_2) and labels.\n",
        "X = jnp.array(df[[\"Embedding_dim_1\", \"Embedding_dim_2\"]].values)\n",
        "# Labels: 0 (\"mat\"), 1 (\"apple\"), or 2 (\"bank\").\n",
        "y = jnp.array(df[\"Label\"].values)\n",
        "\n",
        "# Human-readable labels.\n",
        "labels = [\"mat\", \"apple\", \"bank\"]\n",
        "\n",
        "# Randomly split dataset into training and test sets.\n",
        "X_train, X_test, y_train, y_test = model_selection.train_test_split(\n",
        "    X, y, test_size=0.2, random_state=42\n",
        ")\n",
        "\n",
        "# Convert data into JAX arrays so that they can be used to train your MLP model.\n",
        "X_train, y_train = jnp.array(X_train), jnp.array(y_train)\n",
        "X_test, y_test = jnp.array(X_test), jnp.array(y_test)"
      ]
    },
    {
      "cell_type": "markdown",
      "metadata": {
        "id": "2QSgt8OYGKy-"
      },
      "source": [
        "## Coding activity 1: Implement the MLP\n",
        "\n",
        "You will now implement your first neural network with [Keras](https://keras.io). Keras makes it easy to implement a neural network by specifying its structure.\n",
        "\n",
        "You will build the neural network by defining a list of operations in the cell below. An operation may involve computing the weighted sum or applying a non-linear activation function.\n",
        "\n",
        "For example, to build a simple single-layer neural network, you could define a weighted sum operation and a 5-class SoftMax classification:\n",
        "\n",
        "```python\n",
        "operations = []\n",
        "# keras.layers.Dense adds a weighted sum with output dimension 5 to the network.\n",
        "operations.append(keras.layers.Dense(5))\n",
        "# This adds the SoftMax function to be applied to the output of the previous operation.\n",
        "operations.append(keras.layers.Softmax())\n",
        "```\n",
        "\n",
        "<br />\n",
        "\n",
        "------\n",
        "> **💻 Your task:**\n",
        ">\n",
        ">Your task is to complete the `construct_operations` function. This function takes a list of integers called `hidden_dims`. Each element $d$ in this list indicates that there should be $d$ neurons that compute $d$ weighted sums, followed by a ReLU activation function. Finally, there should be `n_classes` neurons in the output layer followed by a SoftMax operation to output a probability distribution. The output dimension of the network, that is, the number of values it will output, will therefore be `n_classes`.\n",
        ">\n",
        ">The function should return a list of operations, which is then combined to form one model in the `build_mlp` function. For example, when you run this function with the argument `hidden_dims=[5,10]` and `n_classes=3` it should generate a list of six operations:\n",
        ">\n",
        ">1. Weighted sums of 5 neurons\n",
        ">2. A ReLU function\n",
        ">3. Weighted sums of 10 neurons\n",
        ">4. A ReLU function\n",
        ">5. Weighted sums of 3 neurons\n",
        ">6. A SoftMax function\n",
        ">\n",
        ">The following `keras` functions will likely be useful:\n",
        "> * `keras.layers.Dense(dim)`: ([docs](https://keras.io/api/layers/core_layers/dense/)) to create a layer with `dim` neurons that computes the weighted sums\n",
        ">* `keras.layers.ReLU` ([docs](https://keras.io/api/layers/activation_layers/relu/)) to apply the ReLU activation function to the previous operation\n",
        ">* `keras.layers.Softmax` ([docs](https://keras.io/api/layers/activation_layers/softmax)) to apply the SoftMax activation function the previous operation\n",
        ">\n",
        "------"
      ]
    },
    {
      "cell_type": "code",
      "execution_count": null,
      "metadata": {
        "id": "bv0x_24vm5kD"
      },
      "outputs": [],
      "source": [
        "def construct_operations(\n",
        "    hidden_dims: list[int], n_classes: int\n",
        ") -> list[keras.Layer]:\n",
        "    \"\"\"\n",
        "    A function that builds all operations, i.e., weighted sum computations\n",
        "    and activation functions for an MLP with a SoftMax layer as the output\n",
        "    layer.\n",
        "\n",
        "    Args:\n",
        "      hidden_dims: A list of dimensions for all hidden layers.\n",
        "      n_classses: Number of classes for the output layer.\n",
        "\n",
        "    Returns:\n",
        "      A list of operations in the form of Keras Layer instances.\n",
        "    \"\"\"\n",
        "    operations = []\n",
        "\n",
        "    #\n",
        "    #\n",
        "    # Add your code here.\n",
        "    #\n",
        "    #\n",
        "\n",
        "    return operations\n",
        "\n",
        "\n",
        "# Constructs the MLP from a list of operations.\n",
        "# You do not need to edit this function.\n",
        "def build_mlp(hidden_dims: list[int], n_classes: int) -> keras.Model:\n",
        "    \"\"\"\n",
        "    A function that builds an MLP using the construct_operations function\n",
        "      from above.\n",
        "\n",
        "    Args:\n",
        "      hidden_dims: A list of dimensions for all hidden layers.\n",
        "      n_classses: Number of classes for the output layer.\n",
        "\n",
        "    Returns:\n",
        "      A keras model that sequentially passes the data through all operations\n",
        "        defined in opertations.\n",
        "    \"\"\"\n",
        "    operations = construct_operations(hidden_dims, n_classes)\n",
        "    return keras.Sequential(operations)"
      ]
    },
    {
      "cell_type": "markdown",
      "metadata": {
        "id": "IpYuM5IgsHJq"
      },
      "source": [
        "Once you have implemented the function above, run the following cell to test your implementation. The output will give you some hints what might be wrong if the tests do not pass."
      ]
    },
    {
      "cell_type": "code",
      "execution_count": null,
      "metadata": {
        "cellView": "form",
        "id": "ZF6PDOYeVs0i"
      },
      "outputs": [],
      "source": [
        "# @title Run this cell to test your implementation\n",
        "\n",
        "course_3.test_construct_operations(construct_operations)"
      ]
    },
    {
      "cell_type": "markdown",
      "metadata": {
        "id": "u5xQaimmItSD"
      },
      "source": [
        "## Train your MLP\n",
        "\n",
        "As a first step, intialize a new instance of your model. You can use the following cell to initialize your MLP. You can modify the parameters to include more or fewer hidden layers and change the number of neurons in each layer. Since the dataset defines a three-way classification task, keep the `n_classes` parameter set to 3."
      ]
    },
    {
      "cell_type": "code",
      "execution_count": null,
      "metadata": {
        "id": "8dzHgQgfIsnb"
      },
      "outputs": [],
      "source": [
        "# Define a model with one hidden layer that consist of 10 neurons.\n",
        "model = build_mlp([10], 3)"
      ]
    },
    {
      "cell_type": "markdown",
      "metadata": {
        "id": "47uasNZWITsd"
      },
      "source": [
        "Then run the following cell to train your model. After every 20 epochs, this function prints the training loss, the test loss and the accuracy on your training and test set."
      ]
    },
    {
      "cell_type": "code",
      "execution_count": null,
      "metadata": {
        "id": "GfNPHr8jwSL6"
      },
      "outputs": [],
      "source": [
        "traning_logger = training.CustomAccuracyPrinter(print_every=20)\n",
        "training_history = machine_learning.train_mlp(\n",
        "    model,\n",
        "    X_train,\n",
        "    y_train,\n",
        "    validation_data=(X_test, y_test),\n",
        "    epochs=200,\n",
        "    callbacks=[traning_logger],\n",
        ")"
      ]
    },
    {
      "cell_type": "markdown",
      "metadata": {
        "id": "42eBRHydG3TY"
      },
      "source": [
        "## Plotting loss curves\n",
        "\n",
        "After the training run is completed, you can plot the training and test loss curves using the following cell."
      ]
    },
    {
      "cell_type": "code",
      "execution_count": null,
      "metadata": {
        "id": "lQCfRXYpG5fg"
      },
      "outputs": [],
      "source": [
        "visualizations.plot_loss_curve(training_history.history)"
      ]
    },
    {
      "cell_type": "markdown",
      "metadata": {
        "id": "mDOEcIgbt0H0"
      },
      "source": [
        "What do you observe? Is the loss going down? Is it going down as quickly for the training dataset as for the test dataset?\n",
        "\n",
        "Recall the following figure showing common shapes of loss curves."
      ]
    },
    {
      "cell_type": "markdown",
      "source": [
        "<img src=\"https://storage.googleapis.com/dm-educational/assets/ai_foundations/underfitting-overfitting.png\">"
      ],
      "metadata": {
        "id": "9B4h6HgXcNu1"
      }
    },
    {
      "cell_type": "markdown",
      "metadata": {
        "id": "Qhmg9KsqN-k3"
      },
      "source": [
        " Which of these cases resembles your loss curve the most? What does this suggest about your model and the training process?"
      ]
    },
    {
      "cell_type": "markdown",
      "metadata": {
        "id": "f9AqhxK7G8jY"
      },
      "source": [
        "## Visualizing decision boundaries\n",
        "\n",
        "You can now also visualize the learned decision boundaries. Do the boundaries seem to separate the three classes properly?"
      ]
    },
    {
      "cell_type": "code",
      "execution_count": null,
      "metadata": {
        "id": "G9z9G2TRG_IA"
      },
      "outputs": [],
      "source": [
        "visualizations.plot_data_and_mlp(\n",
        "    X_train,\n",
        "    y_train,\n",
        "    labels,\n",
        "    features_test=X_test,\n",
        "    label_ids_test=y_test,\n",
        "    mlp_model=model,\n",
        "    title=\"Decision Boundaries - Your MLP\",\n",
        ")"
      ]
    },
    {
      "cell_type": "markdown",
      "metadata": {
        "id": "5KCX0UXWwdQ2"
      },
      "source": [
        "Your model should be able to separate the dataset nicely. If this is not the case, go back to your implementation of the MLP and verify that it is correct."
      ]
    },
    {
      "cell_type": "markdown",
      "metadata": {
        "id": "xtPzT0GxHDvI"
      },
      "source": [
        "## Summary\n",
        "\n",
        "In this activity, you built your own MLP model for predicting the next token from different prompt embeddings. You created different model structures by changing the layer and neuron numbers. You saw how these changes affected the model performance and how it separated the different classes (\"mat\", \"apple\", \"bank\"). You also generated your first training and test loss curves. This exercise gave you practical experience implementing neural networks, demonstrating firsthand how their structure influences the learning process.\n",
        "\n",
        "In the upcoming activities, you will learn about additional strategies for verifying that your model is training properly and is not underfitting or overfitting to your training data.\n"
      ]
    },
    {
      "cell_type": "markdown",
      "metadata": {
        "id": "i99pzo9CSDOV"
      },
      "source": [
        "## Solutions\n",
        "\n",
        "The following cells provide reference solutions to the coding activities in this notebook. If you really get stuck after trying to solve the activities yourself, you may want to consult these solutions.\n",
        "\n",
        "It is recommended that you *only* look at the solutions after you have tried to solve the activities *multiple times*. The best way to learn challenging concepts in computer science and artificial intelligence is to debug your code piece-by-piece until it works, rather than copying existing solutions.\n",
        "\n",
        "If you feel stuck, you may want to first try to debug your code. For example, by adding additional print statements to see what your code is doing at every step. This will provide you with a much deeper understanding of the code and the materials. It will also provide you with practice on how to solve challenging coding problems beyond this course.\n",
        "\n",
        "To view the solutions for an activity, click on the arrow to the left of the activity name. If you consult the solutions, do not copy and paste them into the cells above. Instead, look at them, and type them manually into the cell. This will help you understand where you went wrong.\n"
      ]
    },
    {
      "cell_type": "markdown",
      "metadata": {
        "id": "VbNNGK3zSLjM"
      },
      "source": [
        "### Coding Activity 1"
      ]
    },
    {
      "cell_type": "code",
      "execution_count": null,
      "metadata": {
        "id": "50xGASkCSNwZ"
      },
      "outputs": [],
      "source": [
        "# This defines a complete implementation of the `construct_operations function.`\n",
        "def construct_operations(hidden_dims: list[int], n_classes: int) -> list[keras.Layer]:\n",
        "    \"\"\"\n",
        "    A function that builds all operations, i.e., weighted sum computations\n",
        "    and activation functions for an MLP with a SoftMax layer as the output\n",
        "    layer.\n",
        "\n",
        "    Args:\n",
        "      hidden_dims: A list of dimensions for all hidden layers.\n",
        "      n_classses: Number of classes for the output layer.\n",
        "\n",
        "    Returns:\n",
        "      A list of operations in the form of Keras Layer instances.\n",
        "    \"\"\"\n",
        "    operations = []\n",
        "    for dim in hidden_dims:\n",
        "        operations.append(keras.layers.Dense(dim))\n",
        "        operations.append(keras.layers.ReLU())\n",
        "\n",
        "    operations.append(keras.layers.Dense(n_classes))  # Output layer: n_classes.\n",
        "    operations.append(keras.layers.Softmax())\n",
        "\n",
        "    return operations"
      ]
    }
  ],
  "metadata": {
    "colab": {
      "collapsed_sections": [
        "NDWsJUGcf4Ru",
        "i99pzo9CSDOV",
        "VbNNGK3zSLjM"
      ],
      "provenance": []
    },
    "kernelspec": {
      "display_name": "Python 3",
      "name": "python3"
    },
    "language_info": {
      "name": "python"
    }
  },
  "nbformat": 4,
  "nbformat_minor": 0
}
