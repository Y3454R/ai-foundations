{
  "cells": [
    {
      "metadata": {
        "id": "_DAsej7XSlYt"
      },
      "cell_type": "markdown",
      "source": [
        "> <p><small><small>This Notebook is made available subject to the licence and terms set out in the <a href = \"http://www.github.com/google-deepmind/ai-foundations\">AI Research Foundations Github README file</a>."
      ]
    },
    {
      "metadata": {
        "id": "zE0jaJsaICiX"
      },
      "cell_type": "markdown",
      "source": [
        "# **Build Your Own Small Language Model, Lab 1: Create Your Own Probability Distribution**\n",
        "\n",
        "<a href='https://colab.research.google.com/github/google-deepmind/ai-foundations/blob/master/course_1/introduction_to_language_modeling_lab_1.ipynb' target='_parent'><img src='https://colab.research.google.com/assets/colab-badge.svg' alt='Open In Colab'/></a>"
      ]
    },
    {
      "metadata": {
        "id": "1RcJIE9p6eRq"
      },
      "cell_type": "markdown",
      "source": [
        "To execute Python code, click the `run` button to the left of the cell. This is the circle with the triangle inside.\n"
      ]
    },
    {
      "metadata": {
        "id": "bb8opL5D9lvj"
      },
      "cell_type": "code",
      "source": [
        "# Packages used.\n",
        "import random\n",
        "import numpy as np"
      ],
      "outputs": [],
      "execution_count": null
    },
    {
      "metadata": {
        "id": "dXogrTsoaefb"
      },
      "cell_type": "markdown",
      "source": [
        "## Sample exercise: Assigning probabilities\n",
        "\n",
        "The cell below sets the probabilities for candidate words `['star', 'beef', 'bottle']` to complete the sample prompt: `Twinkle Twinkle little`. You should assign a high probability to the word `star` to finish the prompt after the famous children's poem `Twinkle Twinkle Little Star`.\n",
        "\n",
        "\n",
        "Follow this code closely, as it is quite similar to what you will encounter in the rest of this lab.\n"
      ]
    },
    {
      "metadata": {
        "id": "icYkPlVair-Q"
      },
      "cell_type": "code",
      "source": [
        "candidate_words = ['star', 'beef', 'bottle']\n",
        "\n",
        "# Enter probabilities for each word here in the format.\n",
        "your_mental_model = [0.99, 0.001, 0.009]\n",
        "\n",
        "print('The sum of your probabilities is:', np.sum(your_mental_model))\n",
        "\n",
        "# Enter probabilities for each word and ensure they sum to 1.\n",
        "assert np.isclose(np.sum(your_mental_model), 1.0), 'Probabilities must sum to one!'\n",
        "\n",
        "print('You\\'ve set the probabilities successfully, now let\\'s finish the ' +\n",
        "      'sentence based on these!')"
      ],
      "outputs": [],
      "execution_count": null
    },
    {
      "metadata": {
        "id": "UJ7GJRyZm5wo"
      },
      "cell_type": "markdown",
      "source": [
        "## random.choices\n",
        "\n",
        "The `random.choices` function allows you to select an item from a list based on specified weights. In this case, the candidate words (e.g. star, beef, bottle) will have probabilities (weights) that sum to 1. When you call `random.choices` with your list of words and their corresponding weights, it will randomly select a word according to these probabilities. For more details on the random.choices function, reference [Python – random.choices() method](https://www.geeksforgeeks.org/random-choices-method-in-python/).\n",
        "\n",
        "The cell below completes the prompt based on the probabilities you assigned in the previous cell. Run the cell to complete the prompt.  "
      ]
    },
    {
      "metadata": {
        "id": "JmLQmXVIjgwe"
      },
      "cell_type": "code",
      "source": [
        "chosen_word = random.choices(candidate_words, weights=your_mental_model)\n",
        "\n",
        "print(f'Twinkle Twinkle little {chosen_word[0]}.')"
      ],
      "outputs": [],
      "execution_count": null
    },
    {
      "metadata": {
        "id": "teWlko-_jq7J"
      },
      "cell_type": "markdown",
      "source": [
        "## Exercise: Assign probabilities"
      ]
    },
    {
      "metadata": {
        "id": "aPqCBIUKjKYu"
      },
      "cell_type": "markdown",
      "source": [
        "The cell below completes the prompt `'Jide was hungry so she went looking for'` with a word from a list of candidate words `['food', 'snacks', 'cookies', 'her', 'for', 'water', 'photosynthesis', 'pyramid']`. Enter probabilities for each candidate word for the variable `your_mental_model`. Follow the format introduced in the sample exercise shown above. Remember your probabilities must add up to 1. Once you have entered your probabilities, run the cell."
      ]
    },
    {
      "metadata": {
        "id": "Urb2zkFM9a2a"
      },
      "cell_type": "code",
      "source": [
        "candidate_words = ['food', 'snacks', 'cookies', 'her', 'for', 'water',\n",
        "                   'photosynthesis', 'pyramid']\n",
        "\n",
        "your_mental_model = [] # Enter your code here.\n",
        "\n",
        "print('The sum of your probabilities is:', np.sum(your_mental_model))\n",
        "\n",
        "assert len(your_mental_model) == len(candidate_words), f'You must enter {len(candidate_words)} probabilities'\n",
        "assert np.isclose(np.sum(your_mental_model), 1.0), 'Probabilities must sum to one!'\n",
        "\n",
        "print('You\\'ve set the probabilities successfully, now let\\'s finish the ' +\n",
        "      'sentence based on these!')"
      ],
      "outputs": [],
      "execution_count": null
    },
    {
      "metadata": {
        "id": "UD38Eu8K7sXg",
        "cellView": "form"
      },
      "cell_type": "code",
      "source": [
        "# @title Run this cell to get a sample answer (Try not to peek at this code until you've given it a good try)\n",
        "your_mental_model=[0.2, 0.35,  0.2, 0.09,  0.001, 0.16,  0.002, 0.001]"
      ],
      "outputs": [],
      "execution_count": null
    },
    {
      "metadata": {
        "id": "gnpziVU2_lXE"
      },
      "cell_type": "markdown",
      "source": [
        "Now, use the random.choices function to select the candidate words. Run this cell multiple times, and observe which words are chosen more frequently. Notice how the sentence changes."
      ]
    },
    {
      "metadata": {
        "id": "jJD4BndPAAp-"
      },
      "cell_type": "code",
      "source": [
        "chosen_word = random.choices(candidate_words, weights=your_mental_model)\n",
        "\n",
        "print(f'Jide was hungry so she went looking for {chosen_word[0]}...')"
      ],
      "outputs": [],
      "execution_count": null
    },
    {
      "metadata": {
        "id": "nc4L-CMgAl32"
      },
      "cell_type": "markdown",
      "source": [
        "Notice that, even with high probabilities assigned to certain words, the code doesn't *always* choose the word with the highest probability (unless the probability of that word is 1). This is because we are picking (or, more technically *sampling*) from a probability distribution and not acting *deterministically*.\n",
        "\n",
        "**Deterministic:**  A deterministic system always produces the same output for a given input. Always picking the word with the highest probability for a prompt would be deterministic (also called *greedy*). `Food`, `snacks` or `cookies` are all valid continuations of the prompt above. However always picking the highest probability word out of these means that we would generate the same sentences every time.\n",
        "\n",
        "**Stochastic:**  A stochastic system involves randomness.  The output is not predetermined, even with the same input. The probabilities guide the outcome, but there is an element of chance. `random.choices()` performs stochastic sampling. Random words are picked based on their weight, meaning different words can be chosen each time, even if one word has a much higher probability than others. This variety is essential for generating diverse and realistic text."
      ]
    },
    {
      "metadata": {
        "id": "TXb-VTdjgTxr"
      },
      "cell_type": "markdown",
      "source": [
        "## The importance of context"
      ]
    },
    {
      "metadata": {
        "id": "GSboC6xUBD92"
      },
      "cell_type": "markdown",
      "source": [
        "Language modeling is sensitive to context. In the next part of the exercise, you will observe how a change in context should alter the probability distribution of the next word.\n",
        "\n",
        "Consider a second prompt:\n",
        "`'Jide was thirsty so she went looking for'`.\n",
        "\n",
        "With this context in mind, reassess the candidate words, and update your probability estimates. Reflect on how being `'thirsty'` might change the probabilities of next possible words for this prompt in comparison with the original prompt, in which Jide was `'hungry'`.\n",
        "\n",
        "\n",
        "The list of candidate words is the same: ` ['food', 'snacks', 'cookies', 'her', 'for', 'water', 'photosynthesis', 'pyramid'].`\n",
        "\n",
        "\n",
        "Assign new probabilities for the candidate words based on the new prompt. Remember, they must add up to 1."
      ]
    },
    {
      "metadata": {
        "id": "s8wmmLbkBXcj"
      },
      "cell_type": "code",
      "source": [
        "candidate_words = ['food', 'snacks', 'leftovers', 'her', 'for', 'water',\n",
        "                   'photosynthesis', 'pyramid']\n",
        "\n",
        "your_mental_model = []  # Enter your code here.\n",
        "\n",
        "print('The sum of your probabilities is:', np.sum(your_mental_model))\n",
        "\n",
        "assert len(your_mental_model) == len(candidate_words), f'You must enter {len(candidate_words)} probabilities'\n",
        "assert np.isclose(np.sum(your_mental_model), 1.0) , 'Probabilities must sum to one!'\n",
        "\n",
        "print('You\\'ve set the probabilities successfully, now let\\'s finish the' +\n",
        "      'sentence based on these!')"
      ],
      "outputs": [],
      "execution_count": null
    },
    {
      "metadata": {
        "cellView": "form",
        "id": "bsdbWiyvAqso"
      },
      "cell_type": "code",
      "source": [
        "# @title Run this cell to get a sample answer (Try not to peek at this code until you've given it a good try!)\n",
        "your_mental_model=[0.05, 0.05,  0.09, 0.05,  0.001, 0.76,  0.002, 0.001]"
      ],
      "outputs": [],
      "execution_count": null
    },
    {
      "metadata": {
        "id": "0eFIFz2OqkUH"
      },
      "cell_type": "markdown",
      "source": [
        "Run the cell below and observe how the `random.choices` function completes the prompt with the new probabilities."
      ]
    },
    {
      "metadata": {
        "id": "1S0WN2Y2BjTD"
      },
      "cell_type": "code",
      "source": [
        "chosen_word = random.choices(candidate_words, weights=your_mental_model)\n",
        "\n",
        "print(f'Jide was thirsty so she went looking for {chosen_word[0]}...')"
      ],
      "outputs": [],
      "execution_count": null
    },
    {
      "metadata": {
        "id": "fdi1RxLaLvIi"
      },
      "cell_type": "markdown",
      "source": [
        "Now, take a moment to reflect. Which word became more probable with the new context, and which ones decreased in likelihood? Consider how modifying the prompt changed these probabilities. What about the new context made certain words stand out while others faded? Reflecting on the changes in probability distribution you applied can provide insights into how a language model adjusts its word probabilities to generate context-aware responses."
      ]
    },
    {
      "metadata": {
        "id": "bgvnYCdruOtW"
      },
      "cell_type": "markdown",
      "source": [
        "## Reflection\n",
        "\n",
        "This is the end of **Lab 1: Create Your Own Probability Distribution**.\n",
        "\n",
        "This notebook explored fundamental concepts in language modeling, focusing on:\n",
        "\n",
        "1. **Assigning probabilities:** You encountered how to assign probabilities to candidate words based on a given prompt, using the `random.choices` function to simulate word selection. This highlighted the stochastic nature of language models, where word choices are guided by probabilities but not predetermined.\n",
        "\n",
        "2. **The impact of context:** You observed how changing the context of a prompt significantly alters the probability distribution of candidate words. By comparing the probabilities assigned for \"Jide was hungry...\" versus \"Jide was thirsty...\", you saw how context influences word choices.\n",
        "\n",
        "3. **Deterministic versus stochastic:** You differentiated between deterministic and stochastic systems, emphasizing the importance of randomness in generating diverse and realistic text. Stochastic sampling with `random.choices` allows for varied outputs, even with the same input, making language models more flexible and nuanced.\n",
        "\n",
        "In the next part of the course, you will reflect on your findings."
      ]
    }
  ],
  "metadata": {
    "colab": {
      "provenance": []
    },
    "kernelspec": {
      "name": "python3",
      "display_name": "Python 3"
    },
    "language_info": {
      "name": "python"
    }
  },
  "nbformat": 4,
  "nbformat_minor": 0
}
